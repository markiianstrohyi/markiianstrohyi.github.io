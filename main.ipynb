{
 "cells": [
  {
   "cell_type": "markdown",
   "id": "4e252afd",
   "metadata": {},
   "source": [
    "## Overview of the whole project goal and step by step map\n",
    "### ..."
   ]
  },
  {
   "cell_type": "markdown",
   "id": "c46302f7",
   "metadata": {},
   "source": [
    "### Importing nessessary libraries"
   ]
  },
  {
   "cell_type": "code",
   "execution_count": 91,
   "id": "c0bff776",
   "metadata": {},
   "outputs": [],
   "source": [
    "import yfinance as yf\n",
    "import pandas as pd\n",
    "import numpy as np\n",
    "from scipy.stats import norm, t"
   ]
  },
  {
   "cell_type": "markdown",
   "id": "09d5dc53",
   "metadata": {},
   "source": [
    "### Loading 2 years of closing prices from Jan 2023 until Jan 2025 for 5 assets from yahoo finance and droping non trading days"
   ]
  },
  {
   "cell_type": "code",
   "execution_count": 92,
   "id": "5365ff8d",
   "metadata": {},
   "outputs": [
    {
     "name": "stderr",
     "output_type": "stream",
     "text": [
      "/var/folders/g3/d8cr9sbj1nq0g6fwxyhphc380000gn/T/ipykernel_24929/3224209059.py:3: FutureWarning: YF.download() has changed argument auto_adjust default to True\n",
      "  data = yf.download(tickers, start='2023-01-01', end='2025-01-02', interval='1d')['Close']\n",
      "[*********************100%***********************]  5 of 5 completed"
     ]
    },
    {
     "name": "stdout",
     "output_type": "stream",
     "text": [
      "Ticker            AAPL         JNJ         JPM        WMT         XOM\n",
      "Date                                                                 \n",
      "2023-01-04  124.744125  166.685318  127.278275  46.401100   98.097069\n",
      "2023-01-05  123.421257  165.454590  127.250038  46.242950  100.291893\n",
      "2023-01-06  127.962395  166.796356  129.685059  47.375858  101.504105\n",
      "2023-01-09  128.485626  162.474930  129.149139  46.785194   99.612320\n",
      "2023-01-10  129.058258  162.086273  130.305542  46.756153  101.100052\n",
      "...                ...         ...         ...        ...         ...\n",
      "2024-12-24  257.578674  143.461914  238.440506  92.203255  104.494308\n",
      "2024-12-26  258.396667  143.196320  239.257263  92.312691  104.582695\n",
      "2024-12-27  254.974930  142.675018  237.318726  91.188515  104.572884\n",
      "2024-12-30  251.593094  140.992996  235.498260  90.104111  103.865776\n",
      "2024-12-31  249.817383  142.252045  235.882050  89.885246  105.643356\n",
      "\n",
      "[501 rows x 5 columns]\n"
     ]
    },
    {
     "name": "stderr",
     "output_type": "stream",
     "text": [
      "\n"
     ]
    }
   ],
   "source": [
    "tickers = ['AAPL', 'JNJ', 'XOM', 'JPM', 'WMT']\n",
    "\n",
    "data = yf.download(tickers, start='2023-01-01', end='2025-01-02', interval='1d')['Close']\n",
    "\n",
    "data = data.dropna()\n",
    "\n",
    "closing_prices = data[-501:]\n",
    "\n",
    "print(closing_prices)"
   ]
  },
  {
   "cell_type": "markdown",
   "id": "d0178286",
   "metadata": {},
   "source": [
    "### Transforming closing prices to logarithmic returns"
   ]
  },
  {
   "cell_type": "code",
   "execution_count": 113,
   "id": "2632d5f6",
   "metadata": {},
   "outputs": [
    {
     "name": "stdout",
     "output_type": "stream",
     "text": [
      "Ticker          AAPL       JNJ       JPM       WMT       XOM\n",
      "Date                                                        \n",
      "2023-01-05 -0.010661 -0.007411 -0.000222 -0.003414  0.022127\n",
      "2023-01-06  0.036133  0.008077  0.018955  0.024204  0.012014\n",
      "2023-01-09  0.004081 -0.026250 -0.004141 -0.012546 -0.018813\n",
      "2023-01-10  0.004447 -0.002395  0.008914 -0.000621  0.014825\n",
      "2023-01-11  0.020892 -0.001600  0.007404  0.008729  0.011560\n",
      "...              ...       ...       ...       ...       ...\n",
      "2024-12-24  0.011413  0.003985  0.016310  0.025462  0.000940\n",
      "2024-12-26  0.003171 -0.001853  0.003420  0.001186  0.000845\n",
      "2024-12-27 -0.013331 -0.003647 -0.008135 -0.012253 -0.000094\n",
      "2024-12-30 -0.013352 -0.011859 -0.007701 -0.011963 -0.006785\n",
      "2024-12-31 -0.007083  0.008890  0.001628 -0.002432  0.016969\n",
      "\n",
      "[500 rows x 5 columns]\n"
     ]
    }
   ],
   "source": [
    "log_returns = np.log(closing_prices/closing_prices.shift(1)).dropna()\n",
    "\n",
    "print(log_returns)"
   ]
  },
  {
   "cell_type": "markdown",
   "id": "0fafd3f2",
   "metadata": {},
   "source": [
    "### Setting the variables for window length, confidence level, normal quantiles and portfolio weights"
   ]
  },
  {
   "cell_type": "code",
   "execution_count": 95,
   "id": "b1e4ccf3",
   "metadata": {},
   "outputs": [],
   "source": [
    "window = 250\n",
    "\n",
    "alpha_95 = 0.95\n",
    "alpha_99 = 0.99\n",
    "\n",
    "z_score_95 = norm.ppf(alpha_95)\n",
    "z_score_99 = norm.ppf(alpha_99)\n",
    "\n",
    "weights = np.array([0.2, 0.2, 0.2, 0.2, 0.2])"
   ]
  },
  {
   "cell_type": "markdown",
   "id": "d920049e",
   "metadata": {},
   "source": [
    "### Calculating realized portfolio returns for testing window"
   ]
  },
  {
   "cell_type": "code",
   "execution_count": 98,
   "id": "e720ef80",
   "metadata": {},
   "outputs": [],
   "source": [
    "realized_returns = log_returns @ weights\n",
    "realized_returns = realized_returns[window:]"
   ]
  },
  {
   "cell_type": "markdown",
   "id": "7cdb6837",
   "metadata": {},
   "source": [
    "### Parameric rolling window approach for portfolio VaR prediction"
   ]
  },
  {
   "cell_type": "code",
   "execution_count": 96,
   "id": "ef666d1e",
   "metadata": {},
   "outputs": [],
   "source": [
    "par_rolling_var_95 = []\n",
    "par_rolling_var_99 = []\n",
    "\n",
    "for t in range(window, len(log_returns)):\n",
    "    window_log_returns = log_returns.iloc[t-window:t]\n",
    "    cov_matrix = window_log_returns.cov().values\n",
    "    portfolio_std = np.sqrt(weights.T @ cov_matrix @ weights)\n",
    "    var_95 = z_score_95 * portfolio_std\n",
    "    var_99 = z_score_99 * portfolio_std\n",
    "    par_rolling_var_95.append(var_95) # assume mean = 0 due to negligible effect in daily log returns\n",
    "    par_rolling_var_99.append(var_99)"
   ]
  },
  {
   "cell_type": "markdown",
   "id": "58baa950",
   "metadata": {},
   "source": [
    "### Aligning the forecasted VaR values with realized returns series for 5 assets "
   ]
  },
  {
   "cell_type": "code",
   "execution_count": 97,
   "id": "60f34df2",
   "metadata": {},
   "outputs": [],
   "source": [
    "par_var_95_series = pd.Series(par_rolling_var_95, index=log_returns.index[window:])\n",
    "par_var_99_series = pd.Series(par_rolling_var_99, index=log_returns.index[window:])"
   ]
  },
  {
   "cell_type": "markdown",
   "id": "0ef4abaf",
   "metadata": {},
   "source": [
    "### Calculating number VaR violation rates for 95% and 99% confidence level "
   ]
  },
  {
   "cell_type": "code",
   "execution_count": 99,
   "id": "1a61dea5",
   "metadata": {},
   "outputs": [
    {
     "name": "stdout",
     "output_type": "stream",
     "text": [
      "breach_rate_95: 4.00%\n",
      "breach_rate_99: 1.60%\n"
     ]
    }
   ],
   "source": [
    "par_breaches_95 = realized_returns < -par_var_95_series\n",
    "par_breaches_99 = realized_returns < -par_var_99_series\n",
    "\n",
    "par_breach_rate_95 = par_breaches_95.sum()/len(par_breaches_95)\n",
    "par_breach_rate_99 = par_breaches_99.sum()/len(par_breaches_99)\n",
    "\n",
    "print(f'breach_rate_95: {par_breach_rate_95:.2%}')\n",
    "print(f'breach_rate_99: {par_breach_rate_99:.2%}')"
   ]
  },
  {
   "cell_type": "markdown",
   "id": "fc2bde55",
   "metadata": {},
   "source": [
    "### Performing Kupiec test (Proportions of Faliure) for 95% and 99% confidence level"
   ]
  },
  {
   "cell_type": "code",
   "execution_count": 100,
   "id": "7ece5bed",
   "metadata": {},
   "outputs": [
    {
     "name": "stdout",
     "output_type": "stream",
     "text": [
      "4.1000723660644667e-07\n"
     ]
    }
   ],
   "source": [
    "from scipy.stats import chi2\n",
    "\n",
    "T = len(par_var_95_series)\n",
    "x = len(par_breaches_95)\n",
    "p = alpha_95  # nominal exception rate, e.g. 0.05\n",
    "\n",
    "hat_p = x / T\n",
    "L0 = ((1-p)**(T-x)) * (p**x)\n",
    "L1 = ((1-hat_p)**(T-x)) * (hat_p**x)\n",
    "LR_pof = -2 * np.log(L0 / L1)\n",
    "p_value = 1 - chi2.cdf(LR_pof, df=1)\n",
    "\n",
    "print(p_value)"
   ]
  },
  {
   "cell_type": "code",
   "execution_count": 101,
   "id": "a9a9983b",
   "metadata": {},
   "outputs": [
    {
     "name": "stdout",
     "output_type": "stream",
     "text": [
      "0.024981503053449705\n"
     ]
    }
   ],
   "source": [
    "T = len(par_var_99_series)\n",
    "x = len(par_breaches_99)\n",
    "p = alpha_99  \n",
    "\n",
    "hat_p = x / T\n",
    "L0 = ((1-p)**(T-x)) * (p**x)\n",
    "L1 = ((1-hat_p)**(T-x)) * (hat_p**x)\n",
    "LR_pof = -2 * np.log(L0 / L1)\n",
    "p_value = 1 - chi2.cdf(LR_pof, df=1)\n",
    "print(p_value)"
   ]
  },
  {
   "cell_type": "markdown",
   "id": "24351897",
   "metadata": {},
   "source": [
    "### Historical rolling window approach for portfolio VaR prediction"
   ]
  },
  {
   "cell_type": "code",
   "execution_count": 102,
   "id": "1e0cd656",
   "metadata": {},
   "outputs": [],
   "source": [
    "hist_rolling_var_95 = []\n",
    "hist_rolling_var_99 = []\n",
    "\n",
    "port_log_returns = log_returns @ weights\n",
    "\n",
    "for t in range(window, len(port_log_returns)):\n",
    "    window_t = port_log_returns[t-window:t]\n",
    "    var_t_95 = np.quantile(window_t, alpha_95)\n",
    "    var_t_99 = np.quantile(window_t, alpha_99)\n",
    "    hist_rolling_var_95.append(var_t_95)\n",
    "    hist_rolling_var_99.append(var_t_99)"
   ]
  },
  {
   "cell_type": "markdown",
   "id": "90021679",
   "metadata": {},
   "source": [
    "### Aligning the forecasted VaR values with realized returns series for 5 assets "
   ]
  },
  {
   "cell_type": "code",
   "execution_count": 103,
   "id": "6a7115e8",
   "metadata": {},
   "outputs": [],
   "source": [
    "hist_var_95_series = pd.Series(hist_rolling_var_95, index=log_returns.index[window:])\n",
    "hist_var_99_series = pd.Series(hist_rolling_var_99, index=log_returns.index[window:])"
   ]
  },
  {
   "cell_type": "markdown",
   "id": "bfc41a5f",
   "metadata": {},
   "source": [
    "### Calculating number VaR violation rates for 95% and 99% confidence level "
   ]
  },
  {
   "cell_type": "code",
   "execution_count": 104,
   "id": "f5319412",
   "metadata": {},
   "outputs": [
    {
     "name": "stdout",
     "output_type": "stream",
     "text": [
      "breach_rate_95: 4.00%\n",
      "breach_rate_99: 1.20%\n"
     ]
    }
   ],
   "source": [
    "hist_breaches_95 = realized_returns < -hist_var_95_series\n",
    "hist_breaches_99 = realized_returns < -hist_var_99_series\n",
    "\n",
    "hist_breaches_rate_95 = hist_breaches_95.sum()/len(hist_breaches_95)\n",
    "hist_breaches_rate_99 = hist_breaches_99.sum()/len(hist_breaches_99)\n",
    "\n",
    "print(f'breach_rate_95: {hist_breaches_rate_95:.2%}')\n",
    "print(f'breach_rate_99: {hist_breaches_rate_99:.2%}')"
   ]
  },
  {
   "cell_type": "markdown",
   "id": "c347e1b6",
   "metadata": {},
   "source": [
    "### Performing Kupiec test (Proportions of Faliure) for 95% and 99% confidence level"
   ]
  },
  {
   "cell_type": "code",
   "execution_count": 105,
   "id": "ee9bd0f4",
   "metadata": {},
   "outputs": [
    {
     "name": "stdout",
     "output_type": "stream",
     "text": [
      "LR PoF statistic: inf\n",
      "p-value: 0.0\n"
     ]
    }
   ],
   "source": [
    "from scipy.stats import chi2\n",
    "import numpy as np\n",
    "\n",
    "T = len(hist_var_95_series)           # total number of observations\n",
    "x = len(hist_breaches_95)         # number of VaR breaches (exceptions)\n",
    "p = alpha_95                     # expected failure rate, e.g. 0.05\n",
    "\n",
    "# Empirical exception rate\n",
    "hat_p = x / T\n",
    "\n",
    "# Avoid log(0) and division by zero\n",
    "if hat_p == 0 or hat_p == 1:\n",
    "    LR_pof = np.inf  # test is undefined in this case\n",
    "    p_value = 0.0\n",
    "else:\n",
    "    # Kupiec likelihood ratio statistic\n",
    "    L0 = (1 - p)**(T - x) * p**x\n",
    "    L1 = (1 - hat_p)**(T - x) * hat_p**x\n",
    "    LR_pof = -2 * np.log(L0 / L1)\n",
    "    p_value = 1 - chi2.cdf(LR_pof, df=1)\n",
    "\n",
    "print(\"LR PoF statistic:\", LR_pof)\n",
    "print(\"p-value:\", p_value)\n"
   ]
  },
  {
   "cell_type": "code",
   "execution_count": 106,
   "id": "01e34c79",
   "metadata": {},
   "outputs": [
    {
     "name": "stdout",
     "output_type": "stream",
     "text": [
      "LR PoF statistic: inf\n",
      "p-value: 0.0\n"
     ]
    }
   ],
   "source": [
    "from scipy.stats import chi2\n",
    "import numpy as np\n",
    "\n",
    "T = len(hist_var_99_series)           # total number of observations\n",
    "x = len(hist_breaches_99)         # number of VaR breaches (exceptions)\n",
    "p = alpha_99                     # expected failure rate, e.g. 0.01\n",
    "\n",
    "# Empirical exception rate\n",
    "hat_p = x / T\n",
    "\n",
    "# Avoid log(0) and division by zero\n",
    "if hat_p == 0 or hat_p == 1:\n",
    "    LR_pof = np.inf  # test is undefined in this case\n",
    "    p_value = 0.0\n",
    "else:\n",
    "    # Kupiec likelihood ratio statistic\n",
    "    L0 = (1 - p)**(T - x) * p**x\n",
    "    L1 = (1 - hat_p)**(T - x) * hat_p**x\n",
    "    LR_pof = -2 * np.log(L0 / L1)\n",
    "    p_value = 1 - chi2.cdf(LR_pof, df=1)\n",
    "\n",
    "print(\"LR PoF statistic:\", LR_pof)\n",
    "print(\"p-value:\", p_value)"
   ]
  },
  {
   "cell_type": "markdown",
   "id": "bc15a5a5",
   "metadata": {},
   "source": [
    "### Monte Carlo rolling window approach with historical covariance matrix for portfolio VaR prediction"
   ]
  },
  {
   "cell_type": "code",
   "execution_count": 107,
   "id": "5989a3f3",
   "metadata": {},
   "outputs": [],
   "source": [
    "n_of_simulations = 10_000\n",
    "\n",
    "mc_rolling_var_95 = []\n",
    "mc_rolling_var_99 = []\n",
    "\n",
    "for t in range(window, len(log_returns)):\n",
    "\n",
    "    window_log_returns = log_returns.iloc[t-window:t]\n",
    "\n",
    "    mu = window_log_returns.mean().values\n",
    "    cov_matrix = window_log_returns.cov().values\n",
    "\n",
    "    normal_simulation = np.random.multivariate_normal(mu, cov_matrix, n_of_simulations)\n",
    "    sim_portfolio_returns = normal_simulation @ weights.T\n",
    "\n",
    "    var_95 = -np.percentile(sim_portfolio_returns, 5)\n",
    "    var_99 = -np.percentile(sim_portfolio_returns, 1)\n",
    "    mc_rolling_var_95.append(var_95)\n",
    "    mc_rolling_var_99.append(var_99)"
   ]
  },
  {
   "cell_type": "markdown",
   "id": "af3e5587",
   "metadata": {},
   "source": [
    "### Aligning the forecasted VaR values with realized returns series for 5 assets "
   ]
  },
  {
   "cell_type": "code",
   "execution_count": 108,
   "id": "341fd3ad",
   "metadata": {},
   "outputs": [],
   "source": [
    "mc_var_95_series = pd.Series(mc_rolling_var_95, index=log_returns.index[window:])\n",
    "mc_var_99_series = pd.Series(mc_rolling_var_99, index=log_returns.index[window:])"
   ]
  },
  {
   "cell_type": "markdown",
   "id": "cdf7d7a7",
   "metadata": {},
   "source": [
    "### Calculating number VaR violation rates for 95% and 99% confidence level "
   ]
  },
  {
   "cell_type": "code",
   "execution_count": 109,
   "id": "660c92da",
   "metadata": {},
   "outputs": [
    {
     "name": "stdout",
     "output_type": "stream",
     "text": [
      "breach_rate_95: 5.20%\n",
      "breach_rate_99: 2.00%\n"
     ]
    }
   ],
   "source": [
    "mc_breaches_95 = realized_returns < -mc_var_95_series\n",
    "mc_breaches_99 = realized_returns < -mc_var_99_series\n",
    "\n",
    "mc_breach_rate_95 = mc_breaches_95.sum()/len(mc_breaches_95)\n",
    "mc_breach_rate_99 = mc_breaches_99.sum()/len(mc_breaches_99)\n",
    "\n",
    "print(f'breach_rate_95: {mc_breach_rate_95:.2%}')\n",
    "print(f'breach_rate_99: {mc_breach_rate_99:.2%}')"
   ]
  },
  {
   "cell_type": "markdown",
   "id": "22cf3f21",
   "metadata": {},
   "source": [
    "### Performing Kupiec test (Proportions of Faliure) for 95% and 99% confidence level"
   ]
  },
  {
   "cell_type": "code",
   "execution_count": 110,
   "id": "c37aa9ce",
   "metadata": {},
   "outputs": [
    {
     "name": "stdout",
     "output_type": "stream",
     "text": [
      "4.1000723660644667e-07\n"
     ]
    }
   ],
   "source": [
    "from scipy.stats import chi2\n",
    "\n",
    "T = len(mc_var_95_series)\n",
    "x = len(mc_breaches_95)\n",
    "p = alpha_95  # nominal exception rate, e.g. 0.05\n",
    "\n",
    "hat_p = x / T\n",
    "L0 = ((1-p)**(T-x)) * (p**x)\n",
    "L1 = ((1-hat_p)**(T-x)) * (hat_p**x)\n",
    "LR_pof = -2 * np.log(L0 / L1)\n",
    "p_value = 1 - chi2.cdf(LR_pof, df=1)\n",
    "\n",
    "print(p_value)"
   ]
  },
  {
   "cell_type": "code",
   "execution_count": 111,
   "id": "787065d7",
   "metadata": {},
   "outputs": [
    {
     "name": "stdout",
     "output_type": "stream",
     "text": [
      "0.024981503053449705\n"
     ]
    }
   ],
   "source": [
    "T = len(mc_var_99_series)\n",
    "x = len(mc_breaches_99)\n",
    "p = alpha_99\n",
    "\n",
    "hat_p = x / T\n",
    "L0 = ((1-p)**(T-x)) * (p**x)\n",
    "L1 = ((1-hat_p)**(T-x)) * (hat_p**x)\n",
    "LR_pof = -2 * np.log(L0 / L1)\n",
    "p_value = 1 - chi2.cdf(LR_pof, df=1)\n",
    "\n",
    "print(p_value)"
   ]
  },
  {
   "cell_type": "code",
   "execution_count": null,
   "id": "394d238f",
   "metadata": {},
   "outputs": [],
   "source": []
  }
 ],
 "metadata": {
  "kernelspec": {
   "display_name": "Python 3",
   "language": "python",
   "name": "python3"
  },
  "language_info": {
   "codemirror_mode": {
    "name": "ipython",
    "version": 3
   },
   "file_extension": ".py",
   "mimetype": "text/x-python",
   "name": "python",
   "nbconvert_exporter": "python",
   "pygments_lexer": "ipython3",
   "version": "3.12.0"
  }
 },
 "nbformat": 4,
 "nbformat_minor": 5
}
