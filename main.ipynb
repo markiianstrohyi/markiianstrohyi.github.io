{
 "cells": [
  {
   "cell_type": "markdown",
   "id": "4e252afd",
   "metadata": {},
   "source": [
    "1. impot libraries\n",
    "3. choose stocks and timeframe \n",
    "2. load data\n",
    "3. transform to log returns\n",
    "4. assign weights for portfolio return cretion\n",
    "5. rolling predictions for parametric var and cvar with 252 days window and normal distribution\n",
    "    1) "
   ]
  },
  {
   "cell_type": "code",
   "execution_count": 5,
   "id": "c0bff776",
   "metadata": {},
   "outputs": [],
   "source": [
    "import yfinance as yf\n",
    "import pandas as pd\n",
    "import numpy as np\n",
    "from scipy.stats import norm, t"
   ]
  },
  {
   "cell_type": "code",
   "execution_count": 2,
   "id": "5365ff8d",
   "metadata": {},
   "outputs": [
    {
     "name": "stderr",
     "output_type": "stream",
     "text": [
      "/var/folders/g3/d8cr9sbj1nq0g6fwxyhphc380000gn/T/ipykernel_20773/3731822354.py:3: FutureWarning: YF.download() has changed argument auto_adjust default to True\n",
      "  data = yf.download(tickers, period='2y', interval='1d')['Close']\n",
      "[*********************100%***********************]  5 of 5 completed"
     ]
    },
    {
     "name": "stdout",
     "output_type": "stream",
     "text": [
      "Ticker            AAPL         JNJ         JPM        WMT         XOM\n",
      "Date                                                                 \n",
      "2023-07-27  191.304596  163.103378  148.849503  51.778225   98.402878\n",
      "2023-07-28  193.888733  163.845245  149.698578  52.022221   97.226761\n",
      "2023-07-31  194.502579  157.318848  150.700348  52.005951  100.101738\n",
      "2023-08-01  193.670914  158.595963  149.956177  51.761967   99.523010\n",
      "2023-08-02  190.670959  159.553772  148.257996  51.797749   98.281532\n",
      "...                ...         ...         ...        ...         ...\n",
      "2025-07-21  212.479996  164.360001  290.970001  95.669998  108.050003\n",
      "2025-07-22  214.399994  167.929993  291.429993  95.849998  108.540001\n",
      "2025-07-23  214.149994  169.100006  296.760010  95.680000  109.930000\n",
      "2025-07-24  213.759995  169.559998  296.549988  96.599998  110.790001\n",
      "2025-07-25  213.884995  168.089996  298.161804  97.464996  110.849998\n",
      "\n",
      "[501 rows x 5 columns]\n"
     ]
    },
    {
     "name": "stderr",
     "output_type": "stream",
     "text": [
      "\n"
     ]
    }
   ],
   "source": [
    "tickers = ['AAPL', 'JNJ', 'XOM', 'JPM', 'WMT']\n",
    "\n",
    "data = yf.download(tickers, period='2y', interval='1d')['Close']\n",
    "\n",
    "data = data.dropna()\n",
    "\n",
    "closing_prices = data[-501:]\n",
    "\n",
    "print(closing_prices)"
   ]
  },
  {
   "cell_type": "code",
   "execution_count": 3,
   "id": "2632d5f6",
   "metadata": {},
   "outputs": [],
   "source": [
    "log_returns = np.log(closing_prices/closing_prices.shift(1)).dropna()"
   ]
  },
  {
   "cell_type": "code",
   "execution_count": 4,
   "id": "14c00e66",
   "metadata": {},
   "outputs": [
    {
     "data": {
      "text/html": [
       "<div>\n",
       "<style scoped>\n",
       "    .dataframe tbody tr th:only-of-type {\n",
       "        vertical-align: middle;\n",
       "    }\n",
       "\n",
       "    .dataframe tbody tr th {\n",
       "        vertical-align: top;\n",
       "    }\n",
       "\n",
       "    .dataframe thead th {\n",
       "        text-align: right;\n",
       "    }\n",
       "</style>\n",
       "<table border=\"1\" class=\"dataframe\">\n",
       "  <thead>\n",
       "    <tr style=\"text-align: right;\">\n",
       "      <th>Ticker</th>\n",
       "      <th>AAPL</th>\n",
       "      <th>JNJ</th>\n",
       "      <th>JPM</th>\n",
       "      <th>WMT</th>\n",
       "      <th>XOM</th>\n",
       "    </tr>\n",
       "    <tr>\n",
       "      <th>Date</th>\n",
       "      <th></th>\n",
       "      <th></th>\n",
       "      <th></th>\n",
       "      <th></th>\n",
       "      <th></th>\n",
       "    </tr>\n",
       "  </thead>\n",
       "  <tbody>\n",
       "    <tr>\n",
       "      <th>2023-07-28</th>\n",
       "      <td>0.013418</td>\n",
       "      <td>0.004538</td>\n",
       "      <td>0.005688</td>\n",
       "      <td>0.004701</td>\n",
       "      <td>-0.012024</td>\n",
       "    </tr>\n",
       "    <tr>\n",
       "      <th>2023-07-31</th>\n",
       "      <td>0.003161</td>\n",
       "      <td>-0.040648</td>\n",
       "      <td>0.006670</td>\n",
       "      <td>-0.000313</td>\n",
       "      <td>0.029141</td>\n",
       "    </tr>\n",
       "    <tr>\n",
       "      <th>2023-08-01</th>\n",
       "      <td>-0.004285</td>\n",
       "      <td>0.008085</td>\n",
       "      <td>-0.004950</td>\n",
       "      <td>-0.004703</td>\n",
       "      <td>-0.005798</td>\n",
       "    </tr>\n",
       "    <tr>\n",
       "      <th>2023-08-02</th>\n",
       "      <td>-0.015611</td>\n",
       "      <td>0.006021</td>\n",
       "      <td>-0.011389</td>\n",
       "      <td>0.000691</td>\n",
       "      <td>-0.012553</td>\n",
       "    </tr>\n",
       "    <tr>\n",
       "      <th>2023-08-03</th>\n",
       "      <td>-0.007349</td>\n",
       "      <td>0.004287</td>\n",
       "      <td>0.006095</td>\n",
       "      <td>0.000251</td>\n",
       "      <td>0.017231</td>\n",
       "    </tr>\n",
       "    <tr>\n",
       "      <th>...</th>\n",
       "      <td>...</td>\n",
       "      <td>...</td>\n",
       "      <td>...</td>\n",
       "      <td>...</td>\n",
       "      <td>...</td>\n",
       "    </tr>\n",
       "    <tr>\n",
       "      <th>2025-07-21</th>\n",
       "      <td>0.006137</td>\n",
       "      <td>0.004024</td>\n",
       "      <td>-0.001030</td>\n",
       "      <td>0.006502</td>\n",
       "      <td>0.002595</td>\n",
       "    </tr>\n",
       "    <tr>\n",
       "      <th>2025-07-22</th>\n",
       "      <td>0.008996</td>\n",
       "      <td>0.021488</td>\n",
       "      <td>0.001580</td>\n",
       "      <td>0.001880</td>\n",
       "      <td>0.004525</td>\n",
       "    </tr>\n",
       "    <tr>\n",
       "      <th>2025-07-23</th>\n",
       "      <td>-0.001167</td>\n",
       "      <td>0.006943</td>\n",
       "      <td>0.018124</td>\n",
       "      <td>-0.001775</td>\n",
       "      <td>0.012725</td>\n",
       "    </tr>\n",
       "    <tr>\n",
       "      <th>2025-07-24</th>\n",
       "      <td>-0.001823</td>\n",
       "      <td>0.002717</td>\n",
       "      <td>-0.000708</td>\n",
       "      <td>0.009569</td>\n",
       "      <td>0.007793</td>\n",
       "    </tr>\n",
       "    <tr>\n",
       "      <th>2025-07-25</th>\n",
       "      <td>0.000585</td>\n",
       "      <td>-0.008707</td>\n",
       "      <td>0.005421</td>\n",
       "      <td>0.008915</td>\n",
       "      <td>0.000541</td>\n",
       "    </tr>\n",
       "  </tbody>\n",
       "</table>\n",
       "<p>500 rows × 5 columns</p>\n",
       "</div>"
      ],
      "text/plain": [
       "Ticker          AAPL       JNJ       JPM       WMT       XOM\n",
       "Date                                                        \n",
       "2023-07-28  0.013418  0.004538  0.005688  0.004701 -0.012024\n",
       "2023-07-31  0.003161 -0.040648  0.006670 -0.000313  0.029141\n",
       "2023-08-01 -0.004285  0.008085 -0.004950 -0.004703 -0.005798\n",
       "2023-08-02 -0.015611  0.006021 -0.011389  0.000691 -0.012553\n",
       "2023-08-03 -0.007349  0.004287  0.006095  0.000251  0.017231\n",
       "...              ...       ...       ...       ...       ...\n",
       "2025-07-21  0.006137  0.004024 -0.001030  0.006502  0.002595\n",
       "2025-07-22  0.008996  0.021488  0.001580  0.001880  0.004525\n",
       "2025-07-23 -0.001167  0.006943  0.018124 -0.001775  0.012725\n",
       "2025-07-24 -0.001823  0.002717 -0.000708  0.009569  0.007793\n",
       "2025-07-25  0.000585 -0.008707  0.005421  0.008915  0.000541\n",
       "\n",
       "[500 rows x 5 columns]"
      ]
     },
     "execution_count": 4,
     "metadata": {},
     "output_type": "execute_result"
    }
   ],
   "source": [
    "log_returns"
   ]
  },
  {
   "cell_type": "code",
   "execution_count": 18,
   "id": "b1e4ccf3",
   "metadata": {},
   "outputs": [],
   "source": [
    "window = 250\n",
    "\n",
    "alpha_95 = 0.95\n",
    "alpha_99 = 0.99\n",
    "\n",
    "z_score_95 = norm.ppf(alpha_95)\n",
    "z_score_99 = norm.ppf(alpha_99)\n",
    "\n",
    "weights = np.array([0.2, 0.2, 0.2, 0.2, 0.2])"
   ]
  },
  {
   "cell_type": "code",
   "execution_count": null,
   "id": "ef666d1e",
   "metadata": {},
   "outputs": [],
   "source": [
    "par_rolling_var_95 = []\n",
    "par_rolling_var_99 = []\n",
    "\n",
    "for t in range(window, len(log_returns)):\n",
    "    window_log_returns = log_returns.iloc[t-window:t]\n",
    "    cov_matrix = window_log_returns.cov().values\n",
    "    portfolio_std = np.sqrt(weights.T @ cov_matrix @ weights)\n",
    "    var_95 = z_score_95 * portfolio_std\n",
    "    var_99 = z_score_99 * portfolio_std\n",
    "    par_rolling_var_95.append(var_95) # assume mean = 0 due to negligible effect in daily log returns\n",
    "    par_rolling_var_99.append(var_99)"
   ]
  },
  {
   "cell_type": "code",
   "execution_count": 22,
   "id": "60f34df2",
   "metadata": {},
   "outputs": [],
   "source": [
    "var_95_series = pd.Series(par_rolling_var_95, index=log_returns.index[window:])\n",
    "var_99_series = pd.Series(par_rolling_var_99, index=log_returns.index[window:])"
   ]
  },
  {
   "cell_type": "code",
   "execution_count": 23,
   "id": "e720ef80",
   "metadata": {},
   "outputs": [],
   "source": [
    "realized_returns = log_returns @ weights\n",
    "realized_returns = realized_returns[window:]"
   ]
  },
  {
   "cell_type": "code",
   "execution_count": 25,
   "id": "1a61dea5",
   "metadata": {},
   "outputs": [
    {
     "name": "stdout",
     "output_type": "stream",
     "text": [
      "breach_rate_95: 6.40%\n",
      "breach_rate_99: 3.20%\n"
     ]
    }
   ],
   "source": [
    "par_breaches_95 = realized_returns < -var_95_series\n",
    "par_breaches_99 = realized_returns < -var_99_series\n",
    "\n",
    "par_breach_rate_95 = par_breaches_95.sum()/len(par_breaches_95)\n",
    "par_breach_rate_99 = par_breaches_99.sum()/len(par_breaches_99)\n",
    "\n",
    "print(f'breach_rate_95: {par_breach_rate_95:.2%}')\n",
    "print(f'breach_rate_99: {par_breach_rate_99:.2%}')"
   ]
  },
  {
   "cell_type": "code",
   "execution_count": 28,
   "id": "7ece5bed",
   "metadata": {},
   "outputs": [
    {
     "name": "stdout",
     "output_type": "stream",
     "text": [
      "4.1000723660644667e-07\n"
     ]
    }
   ],
   "source": [
    "from scipy.stats import chi2\n",
    "\n",
    "T = len(var_95_series)\n",
    "x = len(par_breaches_95)\n",
    "p = alpha_95  # nominal exception rate, e.g. 0.05\n",
    "\n",
    "hat_p = x / T\n",
    "L0 = ((1-p)**(T-x)) * (p**x)\n",
    "L1 = ((1-hat_p)**(T-x)) * (hat_p**x)\n",
    "LR_pof = -2 * np.log(L0 / L1)\n",
    "p_value = 1 - chi2.cdf(LR_pof, df=1)\n",
    "\n",
    "print(p_value)"
   ]
  },
  {
   "cell_type": "code",
   "execution_count": 31,
   "id": "a9a9983b",
   "metadata": {},
   "outputs": [
    {
     "name": "stdout",
     "output_type": "stream",
     "text": [
      "0.024981503053449705\n"
     ]
    }
   ],
   "source": [
    "T = len(var_99_series)\n",
    "x = len(par_breaches_99)\n",
    "p = alpha_99  # nominal exception rate, e.g. 0.05\n",
    "\n",
    "hat_p = x / T\n",
    "L0 = ((1-p)**(T-x)) * (p**x)\n",
    "L1 = ((1-hat_p)**(T-x)) * (hat_p**x)\n",
    "LR_pof = -2 * np.log(L0 / L1)\n",
    "p_value = 1 - chi2.cdf(LR_pof, df=1)\n",
    "print(p_value)"
   ]
  },
  {
   "cell_type": "code",
   "execution_count": null,
   "id": "1e0cd656",
   "metadata": {},
   "outputs": [],
   "source": []
  }
 ],
 "metadata": {
  "kernelspec": {
   "display_name": "Python 3",
   "language": "python",
   "name": "python3"
  },
  "language_info": {
   "codemirror_mode": {
    "name": "ipython",
    "version": 3
   },
   "file_extension": ".py",
   "mimetype": "text/x-python",
   "name": "python",
   "nbconvert_exporter": "python",
   "pygments_lexer": "ipython3",
   "version": "3.12.0"
  }
 },
 "nbformat": 4,
 "nbformat_minor": 5
}
