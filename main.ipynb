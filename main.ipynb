{
 "cells": [
  {
   "cell_type": "markdown",
   "id": "4e252afd",
   "metadata": {},
   "source": [
    "1. impot libraries\n",
    "3. choose stocks and timeframe \n",
    "2. load data\n",
    "3. transform to log returns\n",
    "4. assign weights for portfolio return cretion\n",
    "5. rolling predictions for parametric var and cvar with 252 days window and normal distribution\n",
    "    1) "
   ]
  },
  {
   "cell_type": "code",
   "execution_count": 1,
   "id": "c0bff776",
   "metadata": {},
   "outputs": [],
   "source": [
    "import yfinance as yf\n",
    "import pandas as pd\n",
    "import numpy as np\n",
    "from scipy.stats import norm, t"
   ]
  },
  {
   "cell_type": "code",
   "execution_count": 2,
   "id": "5365ff8d",
   "metadata": {},
   "outputs": [
    {
     "name": "stderr",
     "output_type": "stream",
     "text": [
      "/var/folders/g3/d8cr9sbj1nq0g6fwxyhphc380000gn/T/ipykernel_24929/3731822354.py:3: FutureWarning: YF.download() has changed argument auto_adjust default to True\n",
      "  data = yf.download(tickers, period='2y', interval='1d')['Close']\n",
      "[*********************100%***********************]  5 of 5 completed"
     ]
    },
    {
     "name": "stdout",
     "output_type": "stream",
     "text": [
      "Ticker            AAPL         JNJ         JPM        WMT         XOM\n",
      "Date                                                                 \n",
      "2023-08-03  189.274902  160.239288  149.164352  51.810757   99.989723\n",
      "2023-08-04  180.185928  158.736816  148.849518  51.511463  100.269753\n",
      "2023-08-07  177.077042  162.549362  149.555496  52.210907  100.064384\n",
      "2023-08-08  178.017639  162.624466  148.715942  52.262955  100.559128\n",
      "2023-08-09  176.423599  162.521164  146.721970  52.347538  102.267303\n",
      "...                ...         ...         ...        ...         ...\n",
      "2025-07-28  214.050003  166.220001  298.279999  97.610001  111.440002\n",
      "2025-07-29  211.270004  168.110001  297.040009  98.330002  112.879997\n",
      "2025-07-30  209.050003  167.259995  299.630005  97.589996  111.900002\n",
      "2025-07-31  207.570007  164.740005  296.239990  97.980003  111.639999\n",
      "2025-08-01  202.380005  167.330002  289.369995  98.489998  109.639999\n",
      "\n",
      "[501 rows x 5 columns]\n"
     ]
    },
    {
     "name": "stderr",
     "output_type": "stream",
     "text": [
      "\n"
     ]
    }
   ],
   "source": [
    "tickers = ['AAPL', 'JNJ', 'XOM', 'JPM', 'WMT']\n",
    "\n",
    "data = yf.download(tickers, period='2y', interval='1d')['Close']\n",
    "\n",
    "data = data.dropna()\n",
    "\n",
    "closing_prices = data[-501:]\n",
    "\n",
    "print(closing_prices)"
   ]
  },
  {
   "cell_type": "code",
   "execution_count": 3,
   "id": "2632d5f6",
   "metadata": {},
   "outputs": [],
   "source": [
    "log_returns = np.log(closing_prices/closing_prices.shift(1)).dropna()"
   ]
  },
  {
   "cell_type": "code",
   "execution_count": 4,
   "id": "14c00e66",
   "metadata": {},
   "outputs": [
    {
     "data": {
      "text/html": [
       "<div>\n",
       "<style scoped>\n",
       "    .dataframe tbody tr th:only-of-type {\n",
       "        vertical-align: middle;\n",
       "    }\n",
       "\n",
       "    .dataframe tbody tr th {\n",
       "        vertical-align: top;\n",
       "    }\n",
       "\n",
       "    .dataframe thead th {\n",
       "        text-align: right;\n",
       "    }\n",
       "</style>\n",
       "<table border=\"1\" class=\"dataframe\">\n",
       "  <thead>\n",
       "    <tr style=\"text-align: right;\">\n",
       "      <th>Ticker</th>\n",
       "      <th>AAPL</th>\n",
       "      <th>JNJ</th>\n",
       "      <th>JPM</th>\n",
       "      <th>WMT</th>\n",
       "      <th>XOM</th>\n",
       "    </tr>\n",
       "    <tr>\n",
       "      <th>Date</th>\n",
       "      <th></th>\n",
       "      <th></th>\n",
       "      <th></th>\n",
       "      <th></th>\n",
       "      <th></th>\n",
       "    </tr>\n",
       "  </thead>\n",
       "  <tbody>\n",
       "    <tr>\n",
       "      <th>2023-08-04</th>\n",
       "      <td>-0.049211</td>\n",
       "      <td>-0.009421</td>\n",
       "      <td>-0.002113</td>\n",
       "      <td>-0.005793</td>\n",
       "      <td>0.002797</td>\n",
       "    </tr>\n",
       "    <tr>\n",
       "      <th>2023-08-07</th>\n",
       "      <td>-0.017404</td>\n",
       "      <td>0.023734</td>\n",
       "      <td>0.004732</td>\n",
       "      <td>0.013487</td>\n",
       "      <td>-0.002050</td>\n",
       "    </tr>\n",
       "    <tr>\n",
       "      <th>2023-08-08</th>\n",
       "      <td>0.005298</td>\n",
       "      <td>0.000462</td>\n",
       "      <td>-0.005629</td>\n",
       "      <td>0.000996</td>\n",
       "      <td>0.004932</td>\n",
       "    </tr>\n",
       "    <tr>\n",
       "      <th>2023-08-09</th>\n",
       "      <td>-0.008995</td>\n",
       "      <td>-0.000635</td>\n",
       "      <td>-0.013499</td>\n",
       "      <td>0.001617</td>\n",
       "      <td>0.016844</td>\n",
       "    </tr>\n",
       "    <tr>\n",
       "      <th>2023-08-10</th>\n",
       "      <td>-0.001235</td>\n",
       "      <td>-0.005214</td>\n",
       "      <td>-0.001496</td>\n",
       "      <td>-0.000499</td>\n",
       "      <td>0.005098</td>\n",
       "    </tr>\n",
       "    <tr>\n",
       "      <th>...</th>\n",
       "      <td>...</td>\n",
       "      <td>...</td>\n",
       "      <td>...</td>\n",
       "      <td>...</td>\n",
       "      <td>...</td>\n",
       "    </tr>\n",
       "    <tr>\n",
       "      <th>2025-07-28</th>\n",
       "      <td>0.000795</td>\n",
       "      <td>-0.012436</td>\n",
       "      <td>-0.001139</td>\n",
       "      <td>0.001435</td>\n",
       "      <td>0.009376</td>\n",
       "    </tr>\n",
       "    <tr>\n",
       "      <th>2025-07-29</th>\n",
       "      <td>-0.013073</td>\n",
       "      <td>0.011306</td>\n",
       "      <td>-0.004166</td>\n",
       "      <td>0.007349</td>\n",
       "      <td>0.012839</td>\n",
       "    </tr>\n",
       "    <tr>\n",
       "      <th>2025-07-30</th>\n",
       "      <td>-0.010563</td>\n",
       "      <td>-0.005069</td>\n",
       "      <td>0.008682</td>\n",
       "      <td>-0.007554</td>\n",
       "      <td>-0.008720</td>\n",
       "    </tr>\n",
       "    <tr>\n",
       "      <th>2025-07-31</th>\n",
       "      <td>-0.007105</td>\n",
       "      <td>-0.015181</td>\n",
       "      <td>-0.011378</td>\n",
       "      <td>0.003988</td>\n",
       "      <td>-0.002326</td>\n",
       "    </tr>\n",
       "    <tr>\n",
       "      <th>2025-08-01</th>\n",
       "      <td>-0.025322</td>\n",
       "      <td>0.015599</td>\n",
       "      <td>-0.023464</td>\n",
       "      <td>0.005192</td>\n",
       "      <td>-0.018077</td>\n",
       "    </tr>\n",
       "  </tbody>\n",
       "</table>\n",
       "<p>500 rows × 5 columns</p>\n",
       "</div>"
      ],
      "text/plain": [
       "Ticker          AAPL       JNJ       JPM       WMT       XOM\n",
       "Date                                                        \n",
       "2023-08-04 -0.049211 -0.009421 -0.002113 -0.005793  0.002797\n",
       "2023-08-07 -0.017404  0.023734  0.004732  0.013487 -0.002050\n",
       "2023-08-08  0.005298  0.000462 -0.005629  0.000996  0.004932\n",
       "2023-08-09 -0.008995 -0.000635 -0.013499  0.001617  0.016844\n",
       "2023-08-10 -0.001235 -0.005214 -0.001496 -0.000499  0.005098\n",
       "...              ...       ...       ...       ...       ...\n",
       "2025-07-28  0.000795 -0.012436 -0.001139  0.001435  0.009376\n",
       "2025-07-29 -0.013073  0.011306 -0.004166  0.007349  0.012839\n",
       "2025-07-30 -0.010563 -0.005069  0.008682 -0.007554 -0.008720\n",
       "2025-07-31 -0.007105 -0.015181 -0.011378  0.003988 -0.002326\n",
       "2025-08-01 -0.025322  0.015599 -0.023464  0.005192 -0.018077\n",
       "\n",
       "[500 rows x 5 columns]"
      ]
     },
     "execution_count": 4,
     "metadata": {},
     "output_type": "execute_result"
    }
   ],
   "source": [
    "log_returns"
   ]
  },
  {
   "cell_type": "code",
   "execution_count": 32,
   "id": "b1e4ccf3",
   "metadata": {},
   "outputs": [],
   "source": [
    "window = 250\n",
    "\n",
    "alpha_95 = 0.95\n",
    "alpha_99 = 0.99\n",
    "\n",
    "z_score_95 = norm.ppf(alpha_95)\n",
    "z_score_99 = norm.ppf(alpha_99)\n",
    "\n",
    "weights = np.array([0.2, 0.2, 0.2, 0.2, 0.2])"
   ]
  },
  {
   "cell_type": "code",
   "execution_count": 33,
   "id": "ef666d1e",
   "metadata": {},
   "outputs": [],
   "source": [
    "par_rolling_var_95 = []\n",
    "par_rolling_var_99 = []\n",
    "\n",
    "for t in range(window, len(log_returns)):\n",
    "    window_log_returns = log_returns.iloc[t-window:t]\n",
    "    cov_matrix = window_log_returns.cov().values\n",
    "    portfolio_std = np.sqrt(weights.T @ cov_matrix @ weights)\n",
    "    var_95 = z_score_95 * portfolio_std\n",
    "    var_99 = z_score_99 * portfolio_std\n",
    "    par_rolling_var_95.append(var_95) # assume mean = 0 due to negligible effect in daily log returns\n",
    "    par_rolling_var_99.append(var_99)"
   ]
  },
  {
   "cell_type": "code",
   "execution_count": 34,
   "id": "60f34df2",
   "metadata": {},
   "outputs": [],
   "source": [
    "par_var_95_series = pd.Series(par_rolling_var_95, index=log_returns.index[window:])\n",
    "par_var_99_series = pd.Series(par_rolling_var_99, index=log_returns.index[window:])"
   ]
  },
  {
   "cell_type": "code",
   "execution_count": 35,
   "id": "e720ef80",
   "metadata": {},
   "outputs": [],
   "source": [
    "realized_returns = log_returns @ weights\n",
    "realized_returns = realized_returns[window:]"
   ]
  },
  {
   "cell_type": "code",
   "execution_count": 36,
   "id": "1a61dea5",
   "metadata": {},
   "outputs": [
    {
     "name": "stdout",
     "output_type": "stream",
     "text": [
      "breach_rate_95: 6.40%\n",
      "breach_rate_99: 3.20%\n"
     ]
    }
   ],
   "source": [
    "par_breaches_95 = realized_returns < -par_var_95_series\n",
    "par_breaches_99 = realized_returns < -par_var_99_series\n",
    "\n",
    "par_breach_rate_95 = par_breaches_95.sum()/len(par_breaches_95)\n",
    "par_breach_rate_99 = par_breaches_99.sum()/len(par_breaches_99)\n",
    "\n",
    "print(f'breach_rate_95: {par_breach_rate_95:.2%}')\n",
    "print(f'breach_rate_99: {par_breach_rate_99:.2%}')"
   ]
  },
  {
   "cell_type": "code",
   "execution_count": 42,
   "id": "7ece5bed",
   "metadata": {},
   "outputs": [
    {
     "name": "stdout",
     "output_type": "stream",
     "text": [
      "4.1000723660644667e-07\n"
     ]
    }
   ],
   "source": [
    "from scipy.stats import chi2\n",
    "\n",
    "T = len(par_var_95_series)\n",
    "x = len(par_breaches_95)\n",
    "p = alpha_95  # nominal exception rate, e.g. 0.05\n",
    "\n",
    "hat_p = x / T\n",
    "L0 = ((1-p)**(T-x)) * (p**x)\n",
    "L1 = ((1-hat_p)**(T-x)) * (hat_p**x)\n",
    "LR_pof = -2 * np.log(L0 / L1)\n",
    "p_value = 1 - chi2.cdf(LR_pof, df=1)\n",
    "\n",
    "print(p_value)"
   ]
  },
  {
   "cell_type": "code",
   "execution_count": null,
   "id": "a9a9983b",
   "metadata": {},
   "outputs": [
    {
     "name": "stdout",
     "output_type": "stream",
     "text": [
      "0.024981503053449705\n"
     ]
    }
   ],
   "source": [
    "T = len(par_var_99_series)\n",
    "x = len(par_breaches_99)\n",
    "p = alpha_99  \n",
    "\n",
    "hat_p = x / T\n",
    "L0 = ((1-p)**(T-x)) * (p**x)\n",
    "L1 = ((1-hat_p)**(T-x)) * (hat_p**x)\n",
    "LR_pof = -2 * np.log(L0 / L1)\n",
    "p_value = 1 - chi2.cdf(LR_pof, df=1)\n",
    "print(p_value)"
   ]
  },
  {
   "cell_type": "code",
   "execution_count": 63,
   "id": "1e0cd656",
   "metadata": {},
   "outputs": [],
   "source": [
    "hist_rolling_var_95 = []\n",
    "hist_rolling_var_99 = []\n",
    "\n",
    "port_log_returns = log_returns @ weights\n",
    "\n",
    "for t in range(window, len(port_log_returns)):\n",
    "    window_t = port_log_returns[t-window:t]\n",
    "    var_t_95 = np.quantile(window_t, alpha_95)\n",
    "    var_t_99 = np.quantile(window_t, alpha_99)\n",
    "    hist_rolling_var_95.append(var_t_95)\n",
    "    hist_rolling_var_99.append(var_t_99)"
   ]
  },
  {
   "cell_type": "code",
   "execution_count": 64,
   "id": "6a7115e8",
   "metadata": {},
   "outputs": [],
   "source": [
    "hist_var_95_series = pd.Series(hist_rolling_var_95, index=log_returns.index[window:])\n",
    "hist_var_99_series = pd.Series(hist_rolling_var_99, index=log_returns.index[window:])"
   ]
  },
  {
   "cell_type": "code",
   "execution_count": 65,
   "id": "f5319412",
   "metadata": {},
   "outputs": [
    {
     "name": "stdout",
     "output_type": "stream",
     "text": [
      "breach_rate_95: 6.00%\n",
      "breach_rate_99: 2.80%\n"
     ]
    }
   ],
   "source": [
    "hist_breaches_95 = realized_returns < -hist_var_95_series\n",
    "hist_breaches_99 = realized_returns < -hist_var_99_series\n",
    "\n",
    "hist_breaches_rate_95 = hist_breaches_95.sum()/len(hist_breaches_95)\n",
    "hist_breaches_rate_99 = hist_breaches_99.sum()/len(hist_breaches_99)\n",
    "\n",
    "print(f'breach_rate_95: {hist_breaches_rate_95:.2%}')\n",
    "print(f'breach_rate_99: {hist_breaches_rate_99:.2%}')"
   ]
  },
  {
   "cell_type": "code",
   "execution_count": 66,
   "id": "ee9bd0f4",
   "metadata": {},
   "outputs": [
    {
     "name": "stdout",
     "output_type": "stream",
     "text": [
      "LR PoF statistic: inf\n",
      "p-value: 0.0\n"
     ]
    }
   ],
   "source": [
    "from scipy.stats import chi2\n",
    "import numpy as np\n",
    "\n",
    "T = len(hist_var_95_series)           # total number of observations\n",
    "x = len(hist_breaches_95)         # number of VaR breaches (exceptions)\n",
    "p = alpha_95                     # expected failure rate, e.g. 0.05\n",
    "\n",
    "# Empirical exception rate\n",
    "hat_p = x / T\n",
    "\n",
    "# Avoid log(0) and division by zero\n",
    "if hat_p == 0 or hat_p == 1:\n",
    "    LR_pof = np.inf  # test is undefined in this case\n",
    "    p_value = 0.0\n",
    "else:\n",
    "    # Kupiec likelihood ratio statistic\n",
    "    L0 = (1 - p)**(T - x) * p**x\n",
    "    L1 = (1 - hat_p)**(T - x) * hat_p**x\n",
    "    LR_pof = -2 * np.log(L0 / L1)\n",
    "    p_value = 1 - chi2.cdf(LR_pof, df=1)\n",
    "\n",
    "print(\"LR PoF statistic:\", LR_pof)\n",
    "print(\"p-value:\", p_value)\n"
   ]
  },
  {
   "cell_type": "code",
   "execution_count": 62,
   "id": "01e34c79",
   "metadata": {},
   "outputs": [
    {
     "name": "stdout",
     "output_type": "stream",
     "text": [
      "LR PoF statistic: inf\n",
      "p-value: 0.0\n"
     ]
    }
   ],
   "source": [
    "from scipy.stats import chi2\n",
    "import numpy as np\n",
    "\n",
    "T = len(hist_var_99_series)           # total number of observations\n",
    "x = len(hist_breaches_99)         # number of VaR breaches (exceptions)\n",
    "p = alpha_99                     # expected failure rate, e.g. 0.01\n",
    "\n",
    "# Empirical exception rate\n",
    "hat_p = x / T\n",
    "\n",
    "# Avoid log(0) and division by zero\n",
    "if hat_p == 0 or hat_p == 1:\n",
    "    LR_pof = np.inf  # test is undefined in this case\n",
    "    p_value = 0.0\n",
    "else:\n",
    "    # Kupiec likelihood ratio statistic\n",
    "    L0 = (1 - p)**(T - x) * p**x\n",
    "    L1 = (1 - hat_p)**(T - x) * hat_p**x\n",
    "    LR_pof = -2 * np.log(L0 / L1)\n",
    "    p_value = 1 - chi2.cdf(LR_pof, df=1)\n",
    "\n",
    "print(\"LR PoF statistic:\", LR_pof)\n",
    "print(\"p-value:\", p_value)"
   ]
  },
  {
   "cell_type": "code",
   "execution_count": 55,
   "id": "5989a3f3",
   "metadata": {},
   "outputs": [],
   "source": [
    "n_of_simulations = 10_000\n",
    "\n",
    "mc_rolling_var_95 = []\n",
    "mc_rolling_var_99 = []\n",
    "\n",
    "for t in range(window, len(log_returns)):\n",
    "\n",
    "    window_log_returns = log_returns.iloc[t-window:t]\n",
    "\n",
    "    mu = window_log_returns.mean().values\n",
    "    cov_matrix = window_log_returns.cov().values\n",
    "\n",
    "    normal_simulation = np.random.multivariate_normal(mu, cov_matrix, n_of_simulations)\n",
    "    sim_portfolio_returns = normal_simulation @ weights.T\n",
    "\n",
    "    var_95 = -np.percentile(sim_portfolio_returns, 5)\n",
    "    var_99 = -np.percentile(sim_portfolio_returns, 1)\n",
    "    mc_rolling_var_95.append(var_95)\n",
    "    mc_rolling_var_99.append(var_99)"
   ]
  },
  {
   "cell_type": "code",
   "execution_count": 56,
   "id": "341fd3ad",
   "metadata": {},
   "outputs": [],
   "source": [
    "mc_var_95_series = pd.Series(mc_rolling_var_95, index=log_returns.index[window:])\n",
    "mc_var_99_series = pd.Series(mc_rolling_var_99, index=log_returns.index[window:])"
   ]
  },
  {
   "cell_type": "code",
   "execution_count": 57,
   "id": "660c92da",
   "metadata": {},
   "outputs": [
    {
     "name": "stdout",
     "output_type": "stream",
     "text": [
      "breach_rate_95: 7.60%\n",
      "breach_rate_99: 3.60%\n"
     ]
    }
   ],
   "source": [
    "mc_breaches_95 = realized_returns < -mc_var_95_series\n",
    "mc_breaches_99 = realized_returns < -mc_var_99_series\n",
    "\n",
    "mc_breach_rate_95 = mc_breaches_95.sum()/len(mc_breaches_95)\n",
    "mc_breach_rate_99 = mc_breaches_99.sum()/len(mc_breaches_99)\n",
    "\n",
    "print(f'breach_rate_95: {mc_breach_rate_95:.2%}')\n",
    "print(f'breach_rate_99: {mc_breach_rate_99:.2%}')"
   ]
  },
  {
   "cell_type": "code",
   "execution_count": 58,
   "id": "c37aa9ce",
   "metadata": {},
   "outputs": [
    {
     "name": "stdout",
     "output_type": "stream",
     "text": [
      "4.1000723660644667e-07\n"
     ]
    }
   ],
   "source": [
    "from scipy.stats import chi2\n",
    "\n",
    "T = len(mc_var_95_series)\n",
    "x = len(mc_breaches_95)\n",
    "p = alpha_95  # nominal exception rate, e.g. 0.05\n",
    "\n",
    "hat_p = x / T\n",
    "L0 = ((1-p)**(T-x)) * (p**x)\n",
    "L1 = ((1-hat_p)**(T-x)) * (hat_p**x)\n",
    "LR_pof = -2 * np.log(L0 / L1)\n",
    "p_value = 1 - chi2.cdf(LR_pof, df=1)\n",
    "\n",
    "print(p_value)"
   ]
  },
  {
   "cell_type": "code",
   "execution_count": 59,
   "id": "787065d7",
   "metadata": {},
   "outputs": [
    {
     "name": "stdout",
     "output_type": "stream",
     "text": [
      "0.024981503053449705\n"
     ]
    }
   ],
   "source": [
    "T = len(mc_var_99_series)\n",
    "x = len(mc_breaches_99)\n",
    "p = alpha_99\n",
    "\n",
    "hat_p = x / T\n",
    "L0 = ((1-p)**(T-x)) * (p**x)\n",
    "L1 = ((1-hat_p)**(T-x)) * (hat_p**x)\n",
    "LR_pof = -2 * np.log(L0 / L1)\n",
    "p_value = 1 - chi2.cdf(LR_pof, df=1)\n",
    "\n",
    "print(p_value)"
   ]
  },
  {
   "cell_type": "code",
   "execution_count": null,
   "id": "394d238f",
   "metadata": {},
   "outputs": [],
   "source": []
  }
 ],
 "metadata": {
  "kernelspec": {
   "display_name": "Python 3",
   "language": "python",
   "name": "python3"
  },
  "language_info": {
   "codemirror_mode": {
    "name": "ipython",
    "version": 3
   },
   "file_extension": ".py",
   "mimetype": "text/x-python",
   "name": "python",
   "nbconvert_exporter": "python",
   "pygments_lexer": "ipython3",
   "version": "3.12.0"
  }
 },
 "nbformat": 4,
 "nbformat_minor": 5
}
